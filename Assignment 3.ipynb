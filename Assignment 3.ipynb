{
 "cells": [
  {
   "cell_type": "code",
   "execution_count": 16,
   "metadata": {},
   "outputs": [
    {
     "name": "stdout",
     "output_type": "stream",
     "text": [
      "Enter First Number2\n",
      "Enter an Operator^\n",
      "Enter Second Number3\n",
      "8\n"
     ]
    }
   ],
   "source": [
    "a = int(input(\"Enter First Number\"))\n",
    "b = input(\"Enter an Operator\")\n",
    "c = int(input(\"Enter Second Number\"))\n",
    "\n",
    "if (b == \"+\"):\n",
    "    d = a + c\n",
    "    print(d)\n",
    "elif (b == \"-\"):\n",
    "    d = a - c\n",
    "    print(d)\n",
    "elif (b == \"*\"):\n",
    "    d = a * c\n",
    "    print(d)\n",
    "elif (b == \"/\"):\n",
    "    d = a / c\n",
    "    print(d)\n",
    "elif (b == \"^\"):\n",
    "    d = a ** c\n",
    "    print(d)\n",
    "else:\n",
    "    print(\"Wrong Operator\")"
   ]
  },
  {
   "cell_type": "code",
   "execution_count": 54,
   "metadata": {
    "collapsed": true
   },
   "outputs": [
    {
     "name": "stdout",
     "output_type": "stream",
     "text": [
      "There are 3 Numeric Values in a list\n"
     ]
    }
   ],
   "source": [
    "lst = [\"ali\" , 2.6 , \"umar\" , 5 ,\"karachi\",6]\n",
    "count = 0\n",
    "for i in lst:\n",
    "    if isinstance(i,(int,float)):\n",
    "        count+=1\n",
    "print(\"There are\",count, \"Numeric Values in a list\")"
   ]
  },
  {
   "cell_type": "code",
   "execution_count": 57,
   "metadata": {},
   "outputs": [
    {
     "name": "stdout",
     "output_type": "stream",
     "text": [
      "{'Name': 'Muhammad Humas', 'Department': 'Electronics Engineering', 'Roll No': 233, 'University': 'Usman Institute Of Technology'}\n"
     ]
    }
   ],
   "source": [
    "d = {\"Name\": \"Muhammad Humas\",\n",
    "     \"Department\": \"Electronics Engineering\",\n",
    "     \"Roll No\": 233}\n",
    "d.update({\"University\": \"Usman Institute Of Technology\"})\n",
    "print(d)"
   ]
  },
  {
   "cell_type": "code",
   "execution_count": 58,
   "metadata": {},
   "outputs": [
    {
     "name": "stdout",
     "output_type": "stream",
     "text": [
      "397\n"
     ]
    }
   ],
   "source": [
    "Marks = {\"Subject 1\": 76, \"Subject 2\": 56, \"Subject 3\": 78, \"Subject 4\": 88, \"Subject 5\": 99}\n",
    "print(sum(Marks.values()))"
   ]
  },
  {
   "cell_type": "code",
   "execution_count": 91,
   "metadata": {},
   "outputs": [
    {
     "name": "stdout",
     "output_type": "stream",
     "text": [
      "[50, 60]\n"
     ]
    }
   ],
   "source": [
    "Lst1 = [10,20,30,40,50,50,60,60] \n",
    "Lst2 = []\n",
    "for i in range (len(Lst1)-1):\n",
    "    if (Lst1[i]==Lst1[i+1]):\n",
    "        Lst2.append(Lst1[i])\n",
    "print(Lst2)"
   ]
  },
  {
   "cell_type": "code",
   "execution_count": 2,
   "metadata": {},
   "outputs": [
    {
     "name": "stdout",
     "output_type": "stream",
     "text": [
      "Enter a key : Name\n",
      "The Given Key already exists in Dictionary\n"
     ]
    }
   ],
   "source": [
    "d = {\"Name\": \"Muhammad Humas\",\n",
    "     \"Department\": \"Electronics Engineering\",\n",
    "     \"Roll No\": 233}\n",
    "Key = input(\"Enter a key : \")\n",
    "if Key in d.keys():\n",
    "    print(\"The Given Key already exists in Dictionary\")\n",
    "else: \n",
    "    print(\"Key isn't Present\")"
   ]
  },
  {
   "cell_type": "code",
   "execution_count": null,
   "metadata": {},
   "outputs": [],
   "source": []
  }
 ],
 "metadata": {
  "kernelspec": {
   "display_name": "Python 3",
   "language": "python",
   "name": "python3"
  },
  "language_info": {
   "codemirror_mode": {
    "name": "ipython",
    "version": 3
   },
   "file_extension": ".py",
   "mimetype": "text/x-python",
   "name": "python",
   "nbconvert_exporter": "python",
   "pygments_lexer": "ipython3",
   "version": "3.7.4"
  }
 },
 "nbformat": 4,
 "nbformat_minor": 2
}
