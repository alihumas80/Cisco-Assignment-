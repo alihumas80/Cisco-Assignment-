{
 "cells": [
  {
   "cell_type": "code",
   "execution_count": 3,
   "metadata": {},
   "outputs": [
    {
     "name": "stdout",
     "output_type": "stream",
     "text": [
      "Enter Marks of Subject 175\n",
      "Enter Marks of Subject 265\n",
      "Enter Marks of Subject 387\n",
      "Enter Marks of Subject 480\n",
      "Enter Marks of Subject 540\n",
      "B Grade\n"
     ]
    }
   ],
   "source": [
    "sub1 = int(input(\"Enter Marks of Subject 1\"))\n",
    "sub2 = int(input(\"Enter Marks of Subject 2\"))\n",
    "sub3 = int(input(\"Enter Marks of Subject 3\"))\n",
    "sub4 = int(input(\"Enter Marks of Subject 4\"))\n",
    "sub5 = int(input(\"Enter Marks of Subject 5\"))\n",
    "avg = (sub1+sub2+sub3+sub4+sub5)/5\n",
    "if (avg>=80 and avg<=100):\n",
    "    print(\"A+ Grade\")\n",
    "elif (avg>=70 and avg<80):\n",
    "    print(\"A Grade\")\n",
    "elif (avg>=60 and avg<70):    \n",
    "    print(\"B Grade\")\n",
    "elif (avg>=50 and avg<60):\n",
    "    print(\"C Grade\")\n",
    "elif (avg>=40 and avg<50):\n",
    "    print(\"D Grade\")\n",
    "elif (avg<40):\n",
    "    print(\"E Grade\")\n",
    "else :\n",
    "    print(\"You have Entered wrong Marks\")"
   ]
  },
  {
   "cell_type": "code",
   "execution_count": 5,
   "metadata": {},
   "outputs": [
    {
     "name": "stdout",
     "output_type": "stream",
     "text": [
      "Enter a number4\n",
      "It is an Even Number\n"
     ]
    }
   ],
   "source": [
    "a = int(input(\"Enter a number\"))\n",
    "if (a%2==0):\n",
    "   print (\"It is an Even Number\")\n",
    "else :\n",
    "    print (\"It is an Odd Number\")"
   ]
  },
  {
   "cell_type": "code",
   "execution_count": 7,
   "metadata": {},
   "outputs": [
    {
     "name": "stdout",
     "output_type": "stream",
     "text": [
      "How many Numbers do you want to add :3\n",
      "Enter Number : 1\n",
      "Sum of elements in given list is : 1\n",
      "Enter Number : 2\n",
      "Sum of elements in given list is : 3\n",
      "Enter Number : 3\n",
      "Sum of elements in given list is : 6\n"
     ]
    }
   ],
   "source": [
    "lst = []\n",
    "a = int(input(\"How many Numbers do you want to add :\"))\n",
    "for i in range(a):\n",
    "    numbers = int(input(\"Enter Number : \"))\n",
    "    lst.append(numbers)\n",
    "    print(\"Sum of elements in given list is :\", sum(lst))"
   ]
  },
  {
   "cell_type": "code",
   "execution_count": 10,
   "metadata": {},
   "outputs": [
    {
     "name": "stdout",
     "output_type": "stream",
     "text": [
      "Maximum Number is :  50\n"
     ]
    }
   ],
   "source": [
    "list1 = [10, 20, 30, 40, 50]\n",
    "print(\"Maximum Number is : \", max(list1))"
   ]
  },
  {
   "cell_type": "code",
   "execution_count": 11,
   "metadata": {},
   "outputs": [
    {
     "name": "stdout",
     "output_type": "stream",
     "text": [
      "[1]\n",
      "[1, 1]\n",
      "[1, 1, 2]\n",
      "[1, 1, 2, 3]\n"
     ]
    }
   ],
   "source": [
    "a = [1, 1, 2, 3, 5, 8, 13, 21, 34, 55, 89]\n",
    "b = []\n",
    "for i in a : \n",
    " if i<5:\n",
    "    b.append(i)\n",
    "    print (b)"
   ]
  },
  {
   "cell_type": "code",
   "execution_count": null,
   "metadata": {},
   "outputs": [],
   "source": []
  }
 ],
 "metadata": {
  "kernelspec": {
   "display_name": "Python 3",
   "language": "python",
   "name": "python3"
  },
  "language_info": {
   "codemirror_mode": {
    "name": "ipython",
    "version": 3
   },
   "file_extension": ".py",
   "mimetype": "text/x-python",
   "name": "python",
   "nbconvert_exporter": "python",
   "pygments_lexer": "ipython3",
   "version": "3.7.4"
  }
 },
 "nbformat": 4,
 "nbformat_minor": 2
}
