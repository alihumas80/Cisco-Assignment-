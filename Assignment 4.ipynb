{
 "cells": [
  {
   "cell_type": "code",
   "execution_count": 23,
   "metadata": {},
   "outputs": [
    {
     "name": "stdout",
     "output_type": "stream",
     "text": [
      "Do you want to update Qualification for person? Enter yes/no: yes\n",
      "[{'firstname': 'Muhammad', 'Lastname': 'Fahad', 'age': 18, 'city': 'Karachi', 'Qualification': 'Intermediate (Pre-Medical)'}, {'firstname': 'Hassam', 'Lastname': 'Sohail', 'age': 16, 'city': 'Karachi', 'Qualification': 'Matric (Science)'}, {'firstname': 'Rubas', 'Lastname': 'Javaid', 'age': 20, 'city': 'Karachi', 'Qualification': 'B.COM'}]\n",
      "Do you want to delete Qualification? Enter yes/no: yes\n",
      "[{'firstname': 'Muhammad', 'Lastname': 'Fahad', 'age': 18, 'city': 'Karachi'}, {'firstname': 'Hassam', 'Lastname': 'Sohail', 'age': 16, 'city': 'Karachi'}, {'firstname': 'Rubas', 'Lastname': 'Javaid', 'age': 20, 'city': 'Karachi'}]\n"
     ]
    }
   ],
   "source": [
    "#Answer No.1\n",
    "\n",
    "persons = [\n",
    "    {\n",
    "        \"firstname\" : \"Muhammad\",\n",
    "        \"Lastname\" : \"Fahad\",\n",
    "        \"age\": 18,\n",
    "        \"city\" : \"Karachi\"\n",
    "    },\n",
    "    {\n",
    "        \"firstname\" : \"Hassam\",\n",
    "        \"Lastname\" :\"Sohail\",\n",
    "        \"age\": 16,\n",
    "        \"city\" : \"Karachi\"\n",
    "    },\n",
    "    {\n",
    "        \"firstname\" : \"Rubas\",\n",
    "        \"Lastname\" : \"Javaid\",\n",
    "        \"age\": 20,\n",
    "        \"city\" : \"Karachi\"\n",
    "    },\n",
    "] \n",
    "qual = [\n",
    "    \n",
    "        {\"Qualification\": \"Intermediate (Pre-Medical)\"},\n",
    "        {\"Qualification\": \"Matric (Science)\"},\n",
    "        {\"Qualification\": \"B.COM\"},\n",
    "        \n",
    "]\n",
    "i=0\n",
    "a = input( \"Do you want to update Qualification for person? Enter yes/no: \")\n",
    "if a== \"yes\":\n",
    "    for person in persons:\n",
    "             person.update(qual[i])\n",
    "             i+=1\n",
    "    print(persons)\n",
    "else:\n",
    "    print(persons) \n",
    "d = input(\"Do you want to delete Qualification? Enter yes/no: \")\n",
    "if d==\"yes\":\n",
    "    for person in persons:\n",
    "        del person[\"Qualification\"]\n",
    "    print(persons)\n",
    "else:\n",
    "    print(persons)\n",
    "\n"
   ]
  },
  {
   "cell_type": "code",
   "execution_count": 57,
   "metadata": {},
   "outputs": [
    {
     "name": "stdout",
     "output_type": "stream",
     "text": [
      "{'Name': 'Karachi', 'country': 'Pakistan', 'population': 12188000, 'fact': 'Lahore is the capital city of the Pakistani province of Punjab. It is the second largest and most populous city in Pakistan, after Karachi, and the 32nd most populous urban city in the world. The city is located in the north east part of Punjab province, near the border with India.'} \n",
      "\n",
      "{'Name': 'Lahore', 'country': 'Pakistan', 'population': 15741000, 'fact': \"It is the Sixth largest city in the world by city population.Karachi is vital to Pakistan's economy, contributing 42 per cent of GDP , 70 per cent of income tax revenue and 62 per cent of sales tax revenue.Karachi is among the cheapest city to live in. \"} \n",
      "\n",
      "{'Name': 'Islamabad', 'country': 'Pakistan', 'population': 1233529, 'fact': \"Islamabad Capital Territory Remarkable for its 16 local universities, Islamabad is the capital city for the Islamic Republic of Pakistan. ... Islamabad is home to the Faisal Mosque, the world's fourth-largest mosque and the biggest religious building of its type in South Asia\"} \n",
      "\n"
     ]
    }
   ],
   "source": [
    "# Answer No.2\n",
    "\n",
    "cities = {\n",
    "    \"Karachi\":{\n",
    "        \"Name\":\"Karachi\",\n",
    "        \"country\":\"Pakistan\",\n",
    "        \"population\":12188000,\n",
    "        \"fact\":\"Lahore is the capital city of the Pakistani province of Punjab. It is the second largest and most populous city in Pakistan, after Karachi, and the 32nd most populous urban city in the world. The city is located in the north east part of Punjab province, near the border with India.\"\n",
    "\n",
    "    },\n",
    "    \"Lahore\":{\n",
    "        \"Name\":\"Lahore\",\n",
    "        \"country\":\"Pakistan\",\n",
    "        \"population\":15741000,\n",
    "        \"fact\":\"It is the Sixth largest city in the world by city population.Karachi is vital to Pakistan's economy, contributing 42 per cent of GDP , 70 per cent of income tax revenue and 62 per cent of sales tax revenue.Karachi is among the cheapest city to live in. \"\n",
    "    },\n",
    "    \"Islamabad\":{\n",
    "        \"Name\":\"Islamabad\",\n",
    "        \"country\":\"Pakistan\",\n",
    "        \"population\":1233529,\n",
    "        \"fact\":\"Islamabad Capital Territory Remarkable for its 16 local universities, Islamabad is the capital city for the Islamic Republic of Pakistan. ... Islamabad is home to the Faisal Mosque, the world's fourth-largest mosque and the biggest religious building of its type in South Asia\"\n",
    "    },\n",
    "    \n",
    "}\n",
    "\n",
    "print(cities[\"Karachi\"],\"\\n\")\n",
    "print(cities[\"Lahore\"],\"\\n\")\n",
    "print(cities[\"Islamabad\"],\"\\n\")\n",
    "\n",
    "\n",
    "\n"
   ]
  },
  {
   "cell_type": "code",
   "execution_count": null,
   "metadata": {},
   "outputs": [
    {
     "name": "stdout",
     "output_type": "stream",
     "text": [
      "Enter your age: 5\n",
      "The ticket is $10\n",
      "\n",
      "Enter your age: 8\n",
      "The ticket is $10\n",
      "\n",
      "Enter your age: 15\n",
      "The ticket is $15\n",
      "\n",
      "Enter your age: 67\n",
      "The ticket is $15\n",
      "\n"
     ]
    }
   ],
   "source": [
    "# Answer No.3\n",
    "\n",
    "while True:\n",
    "    a = int(input(\"Enter your age: \"))\n",
    "    if a <3:\n",
    "        print(\"Ticket is free\\n\")\n",
    "    elif a>=3 and a<=12:\n",
    "        print(\"The ticket is $10\\n\")\n",
    "    elif a>12:\n",
    "        print(\"The ticket is $15\\n\")"
   ]
  },
  {
   "cell_type": "code",
   "execution_count": 6,
   "metadata": {},
   "outputs": [
    {
     "name": "stdout",
     "output_type": "stream",
     "text": [
      "One of my favorite books is Alice in Wonderland.\n"
     ]
    }
   ],
   "source": [
    "# Answer No.4\n",
    "\n",
    "def favourite_book(title):\n",
    "    print(title) \n",
    "    \n",
    "\n",
    "favourite_book(\"One of my favorite books is Alice in Wonderland.\")"
   ]
  },
  {
   "cell_type": "code",
   "execution_count": 8,
   "metadata": {},
   "outputs": [
    {
     "name": "stdout",
     "output_type": "stream",
     "text": [
      "One of my favorite books is Alice in Wonderland.\n"
     ]
    }
   ],
   "source": [
    "# Answer No.4 (in another way)\n",
    "\n",
    "def favourite_book():\n",
    "    print(title) \n",
    "    \n",
    "title = \"One of my favorite books is Alice in Wonderland.\"\n",
    "favourite_book()"
   ]
  },
  {
   "cell_type": "code",
   "execution_count": 9,
   "metadata": {},
   "outputs": [
    {
     "name": "stdout",
     "output_type": "stream",
     "text": [
      "One of my favorite books is Alice in Wonderland.\n"
     ]
    }
   ],
   "source": [
    "# Answer No.4 (calling Function)\n",
    "favourite_book()"
   ]
  },
  {
   "cell_type": "code",
   "execution_count": 3,
   "metadata": {},
   "outputs": [
    {
     "name": "stdout",
     "output_type": "stream",
     "text": [
      "Chance No.  1\n",
      "Guess the Number: 2\n",
      "Bad! Guess Number is smaller\n",
      "Chance No.  2\n",
      "Guess the Number: 7\n",
      "Bad! Guess Number is smaller\n",
      "Chance No.  3\n",
      "Guess the Number: 23\n",
      "Bad! Guess Number is Greater\n",
      "You Loose\n"
     ]
    }
   ],
   "source": [
    "# Answer No.5\n",
    "\n",
    "import random\n",
    "r = random.randint(1,30)\n",
    "i=1\n",
    "for i in range(3):\n",
    "    print(\"Chance No. \",i+1)\n",
    "    a = int(input(\"Guess the Number: \"))\n",
    "    if a==r:\n",
    "        print(\"Good! You guess the right Number\")\n",
    "    elif a<r:\n",
    "        print(\"Bad! Guess Number is smaller\")\n",
    "    elif a>r:\n",
    "        print(\"Bad! Guess Number is Greater\")\n",
    "    else:\n",
    "        print(\"You entered number which is out of range\")\n",
    "print(\"You Loose\")"
   ]
  },
  {
   "cell_type": "code",
   "execution_count": null,
   "metadata": {},
   "outputs": [],
   "source": []
  }
 ],
 "metadata": {
  "kernelspec": {
   "display_name": "Python 3",
   "language": "python",
   "name": "python3"
  },
  "language_info": {
   "codemirror_mode": {
    "name": "ipython",
    "version": 3
   },
   "file_extension": ".py",
   "mimetype": "text/x-python",
   "name": "python",
   "nbconvert_exporter": "python",
   "pygments_lexer": "ipython3",
   "version": "3.7.4"
  }
 },
 "nbformat": 4,
 "nbformat_minor": 2
}
