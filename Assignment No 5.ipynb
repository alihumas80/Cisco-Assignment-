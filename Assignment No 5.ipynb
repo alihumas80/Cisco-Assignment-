{
 "cells": [
  {
   "cell_type": "code",
   "execution_count": 2,
   "metadata": {},
   "outputs": [
    {
     "name": "stdout",
     "output_type": "stream",
     "text": [
      "Enter a number: 5\n",
      "Factorial is: 120\n"
     ]
    }
   ],
   "source": [
    "# Answer No.1\n",
    "\n",
    "def factorial():\n",
    "    a = int(input(\"Enter a number: \"))\n",
    "    fact=1\n",
    "    if a>0:\n",
    "        for i in range(1,a+1):\n",
    "            fact=fact*i\n",
    "        print(\"Factorial is: {}\".format(fact))\n",
    "    elif(a==0):\n",
    "            print(\"Factorial is: 1\")\n",
    "    else:\n",
    "            print(\"You have entered wrong number\")\n",
    "    \n",
    "factorial()\n",
    "     "
   ]
  },
  {
   "cell_type": "code",
   "execution_count": 5,
   "metadata": {},
   "outputs": [
    {
     "name": "stdout",
     "output_type": "stream",
     "text": [
      "Factorial is: 720\n"
     ]
    }
   ],
   "source": [
    "# Answer No.1 (The Function takes the number as an argument)\n",
    "\n",
    "def factorial(a):\n",
    "    fact=1\n",
    "    if a>0:\n",
    "        for i in range(1,a+1):\n",
    "            fact=fact*i\n",
    "        print(\"Factorial is: {}\".format(fact))\n",
    "    elif(a==0):\n",
    "            print(\"Factorial is: 1\")\n",
    "    else:\n",
    "            print(\"You have entered wrong number\")\n",
    "    \n",
    "factorial(6)\n",
    "     "
   ]
  },
  {
   "cell_type": "code",
   "execution_count": 28,
   "metadata": {},
   "outputs": [
    {
     "name": "stdout",
     "output_type": "stream",
     "text": [
      "Enter a string: HUmas\n",
      "The Number of Upper Case Letter is: 2 \n",
      "The Number of Lower Case Letter is: 3\n"
     ]
    }
   ],
   "source": [
    "#Answer No.2\n",
    "\n",
    "def calc():\n",
    "    j=0\n",
    "    k=0\n",
    "    a = input(\"Enter a string: \")\n",
    "    for i in a:\n",
    "        if (i.isupper()):\n",
    "            k+=1\n",
    "        elif (i.islower()):\n",
    "            j+=1\n",
    "    print(\"The Number of Upper Case Letter is: {} \".format(k))\n",
    "    print(\"The Number of Lower Case Letter is: {}\".format(j))\n",
    "    \n",
    "calc()"
   ]
  },
  {
   "cell_type": "code",
   "execution_count": 33,
   "metadata": {},
   "outputs": [
    {
     "name": "stdout",
     "output_type": "stream",
     "text": [
      "Even Number: 2 \n",
      "\n",
      "Even Number: 88 \n",
      "\n",
      "Even Number: 10 \n",
      "\n"
     ]
    }
   ],
   "source": [
    "# Answer No.3\n",
    "\n",
    "def even():\n",
    "    lst = [2,7,88,9,10,5,3,5]\n",
    "    for i in lst:\n",
    "        if i%2==0:\n",
    "            print(\"Even Number: {}\".format(i),\"\\n\")\n",
    "even()"
   ]
  },
  {
   "cell_type": "code",
   "execution_count": 43,
   "metadata": {},
   "outputs": [
    {
     "name": "stdout",
     "output_type": "stream",
     "text": [
      "The given word/phrase/sentence is Palinmdome\n"
     ]
    }
   ],
   "source": [
    "# Answer No.4\n",
    "\n",
    "def palindrome(a):\n",
    "    if (a == a[::-1]):\n",
    "            print(\"The given word/phrase/sentence is Palinmdome\")\n",
    "    else:\n",
    "            print(\"The given word/phrase/sentence is not Palinmdome\")\n",
    "palindrome(\"madam\")"
   ]
  },
  {
   "cell_type": "code",
   "execution_count": 114,
   "metadata": {},
   "outputs": [
    {
     "name": "stdout",
     "output_type": "stream",
     "text": [
      "The Number is prime\n"
     ]
    }
   ],
   "source": [
    "#Answer No.5\n",
    "\n",
    "def prime(num):\n",
    "    j=0\n",
    "    if(num>1):\n",
    "        for i in range(2,num):    \n",
    "            if((num%i)==0):\n",
    "                print(\"The Number is not prime\")\n",
    "                break\n",
    "        else:\n",
    "                print (\"The Number is prime\")\n",
    "    else:\n",
    "        print(\"The Number is not prime\")\n",
    "prime(11)"
   ]
  },
  {
   "cell_type": "code",
   "execution_count": 125,
   "metadata": {},
   "outputs": [
    {
     "name": "stdout",
     "output_type": "stream",
     "text": [
      "Customer name is:  Arsalan \n",
      "\n",
      "Name of the Market:  Imtiaz Super Market \n",
      "\n",
      "1 :Biscuits\n",
      "2 :Chips\n",
      "3 :Banana\n",
      "4 :Mango\n",
      "5 :Milk\n",
      "6 :Eggs\n",
      "7 :Meat\n"
     ]
    }
   ],
   "source": [
    "# Answer No.6\n",
    "\n",
    "def shop_list(Name,Market,*lists):\n",
    "    i=0\n",
    "    print(\"Customer name is: \",Name,\"\\n\")\n",
    "    print(\"Name of the Market: \",Market,\"\\n\")\n",
    "    for list in lists:\n",
    "        print(i+1,\":{}\".format(list))\n",
    "        i+=1\n",
    "shop_list(\"Arsalan\",\"Imtiaz Super Market\",\"Biscuits\",\"Chips\",\"Banana\",\"Mango\",\"Milk\",\"Eggs\",\"Meat\")    "
   ]
  },
  {
   "cell_type": "code",
   "execution_count": null,
   "metadata": {},
   "outputs": [],
   "source": []
  }
 ],
 "metadata": {
  "kernelspec": {
   "display_name": "Python 3",
   "language": "python",
   "name": "python3"
  },
  "language_info": {
   "codemirror_mode": {
    "name": "ipython",
    "version": 3
   },
   "file_extension": ".py",
   "mimetype": "text/x-python",
   "name": "python",
   "nbconvert_exporter": "python",
   "pygments_lexer": "ipython3",
   "version": "3.7.4"
  }
 },
 "nbformat": 4,
 "nbformat_minor": 2
}
